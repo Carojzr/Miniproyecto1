{
  "nbformat": 4,
  "nbformat_minor": 0,
  "metadata": {
    "colab": {
      "provenance": []
    },
    "kernelspec": {
      "name": "python3",
      "display_name": "Python 3"
    },
    "language_info": {
      "name": "python"
    }
  },
  "cells": [
    {
      "cell_type": "markdown",
      "source": [
        "## Miniproyecto 1 TDS3\n",
        "\n",
        "Mariana Noreña Vasquez\n",
        "\n",
        "Carolina Jimenez Restrepo"
      ],
      "metadata": {
        "id": "UMT6L4PJh2P6"
      }
    },
    {
      "cell_type": "code",
      "execution_count": null,
      "metadata": {
        "id": "NLTEd4v5dKaS"
      },
      "outputs": [],
      "source": []
    }
  ]
}